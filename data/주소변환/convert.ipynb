{
 "cells": [
  {
   "cell_type": "code",
   "execution_count": 1,
   "id": "42ff69af",
   "metadata": {},
   "outputs": [
    {
     "data": {
      "text/html": [
       "<div>\n",
       "<style scoped>\n",
       "    .dataframe tbody tr th:only-of-type {\n",
       "        vertical-align: middle;\n",
       "    }\n",
       "\n",
       "    .dataframe tbody tr th {\n",
       "        vertical-align: top;\n",
       "    }\n",
       "\n",
       "    .dataframe thead th {\n",
       "        text-align: right;\n",
       "    }\n",
       "</style>\n",
       "<table border=\"1\" class=\"dataframe\">\n",
       "  <thead>\n",
       "    <tr style=\"text-align: right;\">\n",
       "      <th></th>\n",
       "      <th>type</th>\n",
       "      <th>name</th>\n",
       "      <th>latitude</th>\n",
       "      <th>longitude</th>\n",
       "      <th>address</th>\n",
       "    </tr>\n",
       "  </thead>\n",
       "  <tbody>\n",
       "    <tr>\n",
       "      <th>0</th>\n",
       "      <td>CCTV</td>\n",
       "      <td>1</td>\n",
       "      <td>35.25846</td>\n",
       "      <td>129.05110</td>\n",
       "      <td>부산광역시 금정구 도로명주소 부재</td>\n",
       "    </tr>\n",
       "    <tr>\n",
       "      <th>1</th>\n",
       "      <td>CCTV</td>\n",
       "      <td>2</td>\n",
       "      <td>35.24890</td>\n",
       "      <td>129.05800</td>\n",
       "      <td>부산광역시 금정구 도로명주소 부재</td>\n",
       "    </tr>\n",
       "    <tr>\n",
       "      <th>2</th>\n",
       "      <td>CCTV</td>\n",
       "      <td>3</td>\n",
       "      <td>35.25929</td>\n",
       "      <td>129.08778</td>\n",
       "      <td>부산광역시 금정구 금강로 582</td>\n",
       "    </tr>\n",
       "    <tr>\n",
       "      <th>3</th>\n",
       "      <td>CCTV</td>\n",
       "      <td>4</td>\n",
       "      <td>35.27135</td>\n",
       "      <td>129.08985</td>\n",
       "      <td>부산광역시 금정구 팔송로23번길 16</td>\n",
       "    </tr>\n",
       "    <tr>\n",
       "      <th>4</th>\n",
       "      <td>CCTV</td>\n",
       "      <td>5</td>\n",
       "      <td>35.21717</td>\n",
       "      <td>129.10766</td>\n",
       "      <td>부산광역시 금정구 금사로33번길 14</td>\n",
       "    </tr>\n",
       "  </tbody>\n",
       "</table>\n",
       "</div>"
      ],
      "text/plain": [
       "   type name  latitude  longitude               address\n",
       "0  CCTV    1  35.25846  129.05110    부산광역시 금정구 도로명주소 부재\n",
       "1  CCTV    2  35.24890  129.05800    부산광역시 금정구 도로명주소 부재\n",
       "2  CCTV    3  35.25929  129.08778     부산광역시 금정구 금강로 582\n",
       "3  CCTV    4  35.27135  129.08985  부산광역시 금정구 팔송로23번길 16\n",
       "4  CCTV    5  35.21717  129.10766  부산광역시 금정구 금사로33번길 14"
      ]
     },
     "execution_count": 1,
     "metadata": {},
     "output_type": "execute_result"
    }
   ],
   "source": [
    "import pandas as pd\n",
    "df = pd.read_csv('정제 데이터.csv', encoding='utf-8-sig')\n",
    "df.head()"
   ]
  },
  {
   "cell_type": "code",
   "execution_count": 3,
   "id": "23505194",
   "metadata": {},
   "outputs": [],
   "source": [
    "import requests"
   ]
  },
  {
   "cell_type": "code",
   "execution_count": null,
   "id": "33669315",
   "metadata": {},
   "outputs": [],
   "source": [
    "params = {\n",
    "        'x': 129.05110,\n",
    "        'y': 35.25846\n",
    "}\n",
    "url = 'https://dapi.kakao.com/v2/local/geo/coord2regioncode.json'\n",
    "\n",
    "# 여기에 발급받은 REST API 키를 넣으세요\n",
    "REST_API_KEY = ''\n",
    "\n",
    "headers = {\n",
    "        \"Authorization\": f\"KakaoAK {REST_API_KEY}\"\n",
    "}\n",
    "    \n",
    "response = requests.get(url, headers=headers, params=params)\n",
    "data = response.json()"
   ]
  },
  {
   "cell_type": "code",
   "execution_count": 10,
   "id": "061d2173",
   "metadata": {},
   "outputs": [
    {
     "name": "stdout",
     "output_type": "stream",
     "text": [
      "{'meta': {'total_count': 2}, 'documents': [{'region_type': 'B', 'code': '2641011300', 'address_name': '부산광역시 금정구 금성동', 'region_1depth_name': '부산광역시', 'region_2depth_name': '금정구', 'region_3depth_name': '금성동', 'region_4depth_name': '', 'x': 129.05614287603393, 'y': 35.25033246038402}, {'region_type': 'H', 'code': '2641070000', 'address_name': '부산광역시 금정구 금성동', 'region_1depth_name': '부산광역시', 'region_2depth_name': '금정구', 'region_3depth_name': '금성동', 'region_4depth_name': '', 'x': 129.05614287603393, 'y': 35.25033246038402}]}\n"
     ]
    }
   ],
   "source": [
    "print(data)"
   ]
  },
  {
   "cell_type": "code",
   "execution_count": 12,
   "id": "293074d4",
   "metadata": {},
   "outputs": [
    {
     "data": {
      "text/plain": [
       "'금정구'"
      ]
     },
     "execution_count": 12,
     "metadata": {},
     "output_type": "execute_result"
    }
   ],
   "source": [
    "data['documents'][0]['region_2depth_name']"
   ]
  },
  {
   "cell_type": "code",
   "execution_count": 13,
   "id": "a47ad6d3",
   "metadata": {},
   "outputs": [
    {
     "data": {
      "text/plain": [
       "'2641011300'"
      ]
     },
     "execution_count": 13,
     "metadata": {},
     "output_type": "execute_result"
    }
   ],
   "source": [
    "data['documents'][0]['code']"
   ]
  },
  {
   "cell_type": "code",
   "execution_count": null,
   "id": "75593245",
   "metadata": {},
   "outputs": [],
   "source": [
    "import requests\n",
    "def get_address(x,y):\n",
    "    params = {\n",
    "        'x': x,\n",
    "        'y': y\n",
    "    }\n",
    "    url = 'https://dapi.kakao.com/v2/local/geo/coord2regioncode.json'\n",
    "\n",
    "    # 여기에 발급받은 REST API 키를 넣으세요\n",
    "    REST_API_KEY = ''\n",
    "\n",
    "    headers = {\n",
    "        \"Authorization\": f\"KakaoAK {REST_API_KEY}\"\n",
    "    }\n",
    "    \n",
    "    response = requests.get(url, headers=headers, params=params)\n",
    "    if response.status_code != 200:\n",
    "        return   # 오류 발생 시 좌표를 0,0으로 설정\n",
    "    data = response.json()\n",
    "    try:\n",
    "        if data['documents'][0]['region_type'] == 'H':\n",
    "            doc = data['documents'][0]\n",
    "        else:\n",
    "            doc = data['documents'][1]\n",
    "        region_1depth_name = doc['region_1depth_name']\n",
    "        region_2depth_name = doc['region_2depth_name']\n",
    "        region_3depth_name = doc['region_3depth_name']\n",
    "        code = doc['code']\n",
    "        \n",
    "    except:\n",
    "        region_1depth_name = None\n",
    "        region_2depth_name = None\n",
    "        region_3depth_name = None\n",
    "        code = None\n",
    "\n",
    "    return region_1depth_name, region_2depth_name, region_3depth_name, code"
   ]
  },
  {
   "cell_type": "code",
   "execution_count": 16,
   "id": "229cfb5c",
   "metadata": {},
   "outputs": [],
   "source": [
    "for index, row in df.iterrows():\n",
    "    depth1, depth2, depth3, code = get_address(row['longitude'], row['latitude'])\n",
    "    df.at[index, 'region_1depth_name'] = depth1\n",
    "    df.at[index, 'region_2depth_name'] = depth2\n",
    "    df.at[index, 'region_3depth_name'] = depth3\n",
    "    df.at[index, 'code'] = code"
   ]
  },
  {
   "cell_type": "code",
   "execution_count": 19,
   "id": "14c42492",
   "metadata": {},
   "outputs": [],
   "source": [
    "df.to_csv('정제데이터_행정동추가2.csv', index=False, encoding='utf-8-sig')"
   ]
  },
  {
   "cell_type": "code",
   "execution_count": 18,
   "id": "d024a8f0",
   "metadata": {},
   "outputs": [
    {
     "data": {
      "text/plain": [
       "type                  0\n",
       "name                  0\n",
       "latitude              0\n",
       "longitude             0\n",
       "address               0\n",
       "region_1depth_name    0\n",
       "region_2depth_name    0\n",
       "region_3depth_name    0\n",
       "code                  0\n",
       "dtype: int64"
      ]
     },
     "execution_count": 18,
     "metadata": {},
     "output_type": "execute_result"
    }
   ],
   "source": [
    "df.isnull().sum()"
   ]
  }
 ],
 "metadata": {
  "kernelspec": {
   "display_name": "myenv",
   "language": "python",
   "name": "python3"
  },
  "language_info": {
   "codemirror_mode": {
    "name": "ipython",
    "version": 3
   },
   "file_extension": ".py",
   "mimetype": "text/x-python",
   "name": "python",
   "nbconvert_exporter": "python",
   "pygments_lexer": "ipython3",
   "version": "3.10.0"
  }
 },
 "nbformat": 4,
 "nbformat_minor": 5
}
