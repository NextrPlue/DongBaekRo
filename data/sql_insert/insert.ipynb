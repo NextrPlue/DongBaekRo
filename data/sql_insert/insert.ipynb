{
 "cells": [
  {
   "cell_type": "code",
   "execution_count": 5,
   "id": "316a89ab",
   "metadata": {},
   "outputs": [
    {
     "name": "stdout",
     "output_type": "stream",
     "text": [
      "✅ 변환 완료! SQL문이 'insert_data2.sql' 파일에 저장되었습니다.\n"
     ]
    }
   ],
   "source": [
    "import csv\n",
    "\n",
    "def is_float(value):\n",
    "    try:\n",
    "        float(value)\n",
    "        return True\n",
    "    except ValueError:\n",
    "        return False\n",
    "\n",
    "# CSV 파일 경로\n",
    "csv_file = \"정제 데이터.csv\"\n",
    "\n",
    "# 테이블 이름\n",
    "table_name = \"safety_facilities\"\n",
    "\n",
    "# 결과 저장할 SQL 파일\n",
    "sql_file = \"insert_data2.sql\"\n",
    "\n",
    "with open(csv_file, newline='', encoding='utf-8-sig') as f:\n",
    "    reader = csv.reader(f)\n",
    "    headers = next(reader)  # 첫 줄(컬럼명) 읽기\n",
    "\n",
    "    inserts = []\n",
    "    for row in reader:\n",
    "        values = []\n",
    "        for val in row:\n",
    "            # 숫자면 그대로, 문자면 작은 따옴표로 감싸기\n",
    "            if val.isdigit() or is_float(val):\n",
    "                values.append(val)\n",
    "            else:\n",
    "                values.append(\"'\" + val.replace(\"'\", \"''\") + \"'\")  # 작은 따옴표 이스케이프 처리\n",
    "        #sql = f\"INSERT INTO {table_name} ({', '.join(headers)}) VALUES ({', '.join(values)});\"\n",
    "        sql=f\"INSERT INTO {table_name} VALUES ({', '.join(values)});\"\n",
    "        inserts.append(sql)\n",
    "\n",
    "# SQL 파일로 저장\n",
    "with open(sql_file, \"w\", encoding=\"utf-8\") as f:\n",
    "    f.write(\"\\n\".join(inserts))\n",
    "\n",
    "print(f\"✅ 변환 완료! SQL문이 '{sql_file}' 파일에 저장되었습니다.\")\n"
   ]
  },
  {
   "cell_type": "code",
   "execution_count": 6,
   "id": "947a86fb",
   "metadata": {},
   "outputs": [
    {
     "name": "stdout",
     "output_type": "stream",
     "text": [
      "✅ 변환 완료! SQL문이 'insert_data.sql' 파일에 저장되었습니다.\n"
     ]
    }
   ],
   "source": [
    "import csv\n",
    "\n",
    "def is_float(value):\n",
    "    try:\n",
    "        float(value)\n",
    "        return True\n",
    "    except ValueError:\n",
    "        return False\n",
    "\n",
    "# CSV 파일 경로\n",
    "csv_file = \"정제 데이터.csv\"\n",
    "\n",
    "# 테이블 이름\n",
    "table_name = \"safety_facilities\"\n",
    "\n",
    "# 결과 저장할 SQL 파일\n",
    "sql_file = \"insert_data.sql\"\n",
    "\n",
    "with open(csv_file, newline='', encoding='utf-8-sig') as f:\n",
    "    reader = csv.reader(f)\n",
    "    headers = next(reader)  # 첫 줄(컬럼명) 읽기\n",
    "\n",
    "    inserts = []\n",
    "    for row in reader:\n",
    "        values = []\n",
    "        for val in row:\n",
    "            # 숫자면 그대로, 문자면 작은 따옴표로 감싸기\n",
    "            if val.isdigit() or is_float(val):\n",
    "                values.append(val)\n",
    "            else:\n",
    "                values.append(\"'\" + val.replace(\"'\", \"''\") + \"'\")  # 작은 따옴표 이스케이프 처리\n",
    "        sql = f\"INSERT INTO {table_name} ({', '.join(headers)}) VALUES ({', '.join(values)});\"\n",
    "        #sql=f\"INSERT INTO {table_name} VALUES ({', '.join(values)});\"\n",
    "        inserts.append(sql)\n",
    "\n",
    "# SQL 파일로 저장\n",
    "with open(sql_file, \"w\", encoding=\"utf-8\") as f:\n",
    "    f.write(\"\\n\".join(inserts))\n",
    "\n",
    "print(f\"✅ 변환 완료! SQL문이 '{sql_file}' 파일에 저장되었습니다.\")\n"
   ]
  },
  {
   "cell_type": "code",
   "execution_count": 1,
   "id": "4019975b",
   "metadata": {},
   "outputs": [
    {
     "data": {
      "text/plain": [
       "array(['CCTV', 'STREETLAMP', 'EMERGENCY_BELL', 'INFORMATION_BOARD',\n",
       "       'SAFE_DELIVERY_BOX', 'POLICE_SUBSTATION'], dtype=object)"
      ]
     },
     "execution_count": 1,
     "metadata": {},
     "output_type": "execute_result"
    }
   ],
   "source": [
    "import pandas as pd\n",
    "df = pd.read_csv('정제 데이터.csv', encoding='utf-8-sig')\n",
    "df['type'].unique()"
   ]
  },
  {
   "cell_type": "code",
   "execution_count": 6,
   "id": "6508dc56",
   "metadata": {},
   "outputs": [
    {
     "data": {
      "text/plain": [
       "15549"
      ]
     },
     "execution_count": 6,
     "metadata": {},
     "output_type": "execute_result"
    }
   ],
   "source": [
    "len(df.loc[df['type']=='CCTV',:])"
   ]
  },
  {
   "cell_type": "code",
   "execution_count": 7,
   "id": "1070b352",
   "metadata": {},
   "outputs": [
    {
     "data": {
      "text/plain": [
       "72352"
      ]
     },
     "execution_count": 7,
     "metadata": {},
     "output_type": "execute_result"
    }
   ],
   "source": [
    "len(df.loc[df['type']=='STREETLAMP',:])"
   ]
  },
  {
   "cell_type": "code",
   "execution_count": 9,
   "id": "b8d4331a",
   "metadata": {},
   "outputs": [
    {
     "data": {
      "text/plain": [
       "533"
      ]
     },
     "execution_count": 9,
     "metadata": {},
     "output_type": "execute_result"
    }
   ],
   "source": [
    "len(df.loc[df['type']=='EMERGENCY_BELL',:])"
   ]
  },
  {
   "cell_type": "code",
   "execution_count": null,
   "id": "8f15be98",
   "metadata": {},
   "outputs": [],
   "source": []
  }
 ],
 "metadata": {
  "kernelspec": {
   "display_name": "myenv",
   "language": "python",
   "name": "python3"
  },
  "language_info": {
   "codemirror_mode": {
    "name": "ipython",
    "version": 3
   },
   "file_extension": ".py",
   "mimetype": "text/x-python",
   "name": "python",
   "nbconvert_exporter": "python",
   "pygments_lexer": "ipython3",
   "version": "3.10.0"
  }
 },
 "nbformat": 4,
 "nbformat_minor": 5
}
